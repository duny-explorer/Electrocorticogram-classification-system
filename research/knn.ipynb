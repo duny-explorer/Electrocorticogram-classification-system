{
 "cells": [
  {
   "cell_type": "code",
   "execution_count": null,
   "id": "0bbabe37-a55f-4257-baa8-09c0b18548a6",
   "metadata": {},
   "outputs": [],
   "source": [
    "from imblearn.under_sampling import RandomUnderSampler\n",
    "import pyedflib\n",
    "import numpy as np\n",
    "import pandas as pd\n",
    "import seaborn as sns\n",
    "from pathlib import Path\n",
    "from tqdm import tqdm\n",
    "import matplotlib.pyplot as plt\n",
    "from scipy.fft import rfft, rfftfreq, irfft\n",
    "from imblearn.under_sampling import RandomUnderSampler\n",
    "from scipy.signal import butter, filtfilt, find_peaks\n",
    "from statsmodels.tsa.seasonal import seasonal_decompose\n",
    "from sklearn.linear_model import LinearRegression\n",
    "from sklearn.neighbors import KNeighborsClassifier\n",
    "from sklearn.model_selection import train_test_split\n",
    "from sklearn.metrics import roc_auc_score\n",
    "from sklearn.metrics import f1_score\n",
    "from sklearn.metrics import jaccard_score\n",
    "from joblib import dump, load"
   ]
  },
  {
   "cell_type": "code",
   "execution_count": 147,
   "id": "2b1f4550-13c6-4c24-a39a-33cdd70cc5a8",
   "metadata": {},
   "outputs": [
    {
     "data": {
      "text/html": [
       "<div>\n",
       "<style scoped>\n",
       "    .dataframe tbody tr th:only-of-type {\n",
       "        vertical-align: middle;\n",
       "    }\n",
       "\n",
       "    .dataframe tbody tr th {\n",
       "        vertical-align: top;\n",
       "    }\n",
       "\n",
       "    .dataframe thead th {\n",
       "        text-align: right;\n",
       "    }\n",
       "</style>\n",
       "<table border=\"1\" class=\"dataframe\">\n",
       "  <thead>\n",
       "    <tr style=\"text-align: right;\">\n",
       "      <th></th>\n",
       "      <th>emb</th>\n",
       "      <th>label</th>\n",
       "    </tr>\n",
       "  </thead>\n",
       "  <tbody>\n",
       "    <tr>\n",
       "      <th>0</th>\n",
       "      <td>[0.050875000000000004, 0.0418125, 0.0518125000...</td>\n",
       "      <td>none</td>\n",
       "    </tr>\n",
       "    <tr>\n",
       "      <th>1</th>\n",
       "      <td>[-0.0885625, -0.1311875, -0.148875, -0.12975, ...</td>\n",
       "      <td>none</td>\n",
       "    </tr>\n",
       "    <tr>\n",
       "      <th>2</th>\n",
       "      <td>[0.185375, 0.2161875, 0.1673125, 0.1468125, 0....</td>\n",
       "      <td>none</td>\n",
       "    </tr>\n",
       "    <tr>\n",
       "      <th>3</th>\n",
       "      <td>[-0.141625, -0.149, -0.1784375, -0.2235, -0.21...</td>\n",
       "      <td>none</td>\n",
       "    </tr>\n",
       "    <tr>\n",
       "      <th>4</th>\n",
       "      <td>[0.21106250000000001, 0.210875, 0.2288125, 0.2...</td>\n",
       "      <td>none</td>\n",
       "    </tr>\n",
       "    <tr>\n",
       "      <th>...</th>\n",
       "      <td>...</td>\n",
       "      <td>...</td>\n",
       "    </tr>\n",
       "    <tr>\n",
       "      <th>518359</th>\n",
       "      <td>[0.07981250000000001, 0.079125, 0.0873125, 0.0...</td>\n",
       "      <td>swd</td>\n",
       "    </tr>\n",
       "    <tr>\n",
       "      <th>518360</th>\n",
       "      <td>[0.04025, 0.0349375, 0.03625, 0.01325, 0.02162...</td>\n",
       "      <td>swd</td>\n",
       "    </tr>\n",
       "    <tr>\n",
       "      <th>518361</th>\n",
       "      <td>[0.07225, 0.063625, 0.0226875, 0.0071875, 0.02...</td>\n",
       "      <td>swd</td>\n",
       "    </tr>\n",
       "    <tr>\n",
       "      <th>518362</th>\n",
       "      <td>[0.05375, 0.058875000000000004, 0.08325, 0.096...</td>\n",
       "      <td>swd</td>\n",
       "    </tr>\n",
       "    <tr>\n",
       "      <th>518363</th>\n",
       "      <td>[0.0583125, 0.04825, 0.0345625, 0.007125, 0.02...</td>\n",
       "      <td>swd</td>\n",
       "    </tr>\n",
       "  </tbody>\n",
       "</table>\n",
       "<p>518364 rows × 2 columns</p>\n",
       "</div>"
      ],
      "text/plain": [
       "                                                      emb label\n",
       "0       [0.050875000000000004, 0.0418125, 0.0518125000...  none\n",
       "1       [-0.0885625, -0.1311875, -0.148875, -0.12975, ...  none\n",
       "2       [0.185375, 0.2161875, 0.1673125, 0.1468125, 0....  none\n",
       "3       [-0.141625, -0.149, -0.1784375, -0.2235, -0.21...  none\n",
       "4       [0.21106250000000001, 0.210875, 0.2288125, 0.2...  none\n",
       "...                                                   ...   ...\n",
       "518359  [0.07981250000000001, 0.079125, 0.0873125, 0.0...   swd\n",
       "518360  [0.04025, 0.0349375, 0.03625, 0.01325, 0.02162...   swd\n",
       "518361  [0.07225, 0.063625, 0.0226875, 0.0071875, 0.02...   swd\n",
       "518362  [0.05375, 0.058875000000000004, 0.08325, 0.096...   swd\n",
       "518363  [0.0583125, 0.04825, 0.0345625, 0.007125, 0.02...   swd\n",
       "\n",
       "[518364 rows x 2 columns]"
      ]
     },
     "execution_count": 147,
     "metadata": {},
     "output_type": "execute_result"
    }
   ],
   "source": [
    "data = pd.read_parquet('data/data.parquet')\n",
    "data"
   ]
  },
  {
   "cell_type": "code",
   "execution_count": 32,
   "id": "3e51a30d-7fda-4425-adac-669f017eb15c",
   "metadata": {},
   "outputs": [
    {
     "data": {
      "text/plain": [
       "0         [0.2185625, 0.1883125, 0.214625, 0.293625, 0.3...\n",
       "1         [0.408875, 0.3946875, 0.4164375, 0.39937500000...\n",
       "2         [0.236125, 0.2361875, 0.245875, 0.2139375, 0.1...\n",
       "3         [-0.200875, -0.12662500000000002, -0.074125000...\n",
       "4         [0.22225, 0.2618125, 0.279, 0.3253749999999999...\n",
       "                                ...                        \n",
       "129589    [0.01475, 0.0176875, 0.0325625, -0.00412500000...\n",
       "129590    [0.174375, 0.12331249999999999, 0.098125, 0.14...\n",
       "129591    [0.040375, 0.007187500000000001, 0.0605, 0.055...\n",
       "129592    [-0.02375, -0.0499375, -0.107125, -0.1225625, ...\n",
       "129593    [0.12106250000000002, 0.135, 0.1823125, 0.1984...\n",
       "Name: emb, Length: 129594, dtype: object"
      ]
     },
     "execution_count": 32,
     "metadata": {},
     "output_type": "execute_result"
    }
   ],
   "source": [
    "data['emb'] = data['emb'].map(lambda x: np.sum(x.reshape((3, -1)), axis=0))\n",
    "data['emb']"
   ]
  },
  {
   "cell_type": "code",
   "execution_count": 38,
   "id": "795aa678-5d2f-4d82-a92b-d30f749f2663",
   "metadata": {},
   "outputs": [],
   "source": [
    "rus = RandomUnderSampler(sampling_strategy={'none': 1000}, random_state=13)\n",
    "X, y = rus.fit_resample(data, data['label'])"
   ]
  },
  {
   "cell_type": "code",
   "execution_count": 39,
   "id": "5e476464-da56-4732-be11-ec4675b5d463",
   "metadata": {},
   "outputs": [
    {
     "data": {
      "text/plain": [
       "<Axes: >"
      ]
     },
     "execution_count": 39,
     "metadata": {},
     "output_type": "execute_result"
    },
    {
     "data": {
      "image/png": "[encoded data removed]",
      "text/plain": [
       "<Figure size 640x480 with 1 Axes>"
      ]
     },
     "metadata": {},
     "output_type": "display_data"
    }
   ],
   "source": [
    "X['label'].value_counts().plot(kind='bar')"
   ]
  },
  {
   "cell_type": "markdown",
   "id": "e172572d-1317-4845-9515-0def01bc6a59",
   "metadata": {},
   "source": [
    "# KNN"
   ]
  },
  {
   "cell_type": "code",
   "execution_count": 40,
   "id": "dc9822c8-5234-410b-8b95-416484520528",
   "metadata": {},
   "outputs": [
    {
     "data": {
      "text/html": [
       "<div>\n",
       "<style scoped>\n",
       "    .dataframe tbody tr th:only-of-type {\n",
       "        vertical-align: middle;\n",
       "    }\n",
       "\n",
       "    .dataframe tbody tr th {\n",
       "        vertical-align: top;\n",
       "    }\n",
       "\n",
       "    .dataframe thead th {\n",
       "        text-align: right;\n",
       "    }\n",
       "</style>\n",
       "<table border=\"1\" class=\"dataframe\">\n",
       "  <thead>\n",
       "    <tr style=\"text-align: right;\">\n",
       "      <th></th>\n",
       "      <th>emb</th>\n",
       "      <th>label</th>\n",
       "    </tr>\n",
       "  </thead>\n",
       "  <tbody>\n",
       "    <tr>\n",
       "      <th>176</th>\n",
       "      <td>[0.466875, 0.4600625, 0.433375, 0.468624999999...</td>\n",
       "      <td>ds1</td>\n",
       "    </tr>\n",
       "    <tr>\n",
       "      <th>177</th>\n",
       "      <td>[-0.2821875, -0.251, -0.2049375, -0.1756875, -...</td>\n",
       "      <td>ds1</td>\n",
       "    </tr>\n",
       "    <tr>\n",
       "      <th>341</th>\n",
       "      <td>[-0.045375000000000006, -0.0008124999999999938...</td>\n",
       "      <td>ds1</td>\n",
       "    </tr>\n",
       "    <tr>\n",
       "      <th>342</th>\n",
       "      <td>[-0.1483125, -0.200375, -0.22856250000000003, ...</td>\n",
       "      <td>ds1</td>\n",
       "    </tr>\n",
       "    <tr>\n",
       "      <th>1473</th>\n",
       "      <td>[0.1549375, 0.18937500000000002, 0.2074375, 0....</td>\n",
       "      <td>ds1</td>\n",
       "    </tr>\n",
       "    <tr>\n",
       "      <th>...</th>\n",
       "      <td>...</td>\n",
       "      <td>...</td>\n",
       "    </tr>\n",
       "    <tr>\n",
       "      <th>128848</th>\n",
       "      <td>[-0.096125, -0.06512500000000002, -0.088937499...</td>\n",
       "      <td>swd1</td>\n",
       "    </tr>\n",
       "    <tr>\n",
       "      <th>128849</th>\n",
       "      <td>[0.22999999999999998, 0.19424999999999998, 0.1...</td>\n",
       "      <td>swd1</td>\n",
       "    </tr>\n",
       "    <tr>\n",
       "      <th>129506</th>\n",
       "      <td>[-0.12618749999999998, -0.143875, -0.078000000...</td>\n",
       "      <td>swd1</td>\n",
       "    </tr>\n",
       "    <tr>\n",
       "      <th>129507</th>\n",
       "      <td>[-0.159375, -0.209125, -0.211125, -0.2464375, ...</td>\n",
       "      <td>swd1</td>\n",
       "    </tr>\n",
       "    <tr>\n",
       "      <th>129508</th>\n",
       "      <td>[0.052187500000000005, 0.043812500000000004, 0...</td>\n",
       "      <td>swd1</td>\n",
       "    </tr>\n",
       "  </tbody>\n",
       "</table>\n",
       "<p>2234 rows × 2 columns</p>\n",
       "</div>"
      ],
      "text/plain": [
       "                                                      emb label\n",
       "176     [0.466875, 0.4600625, 0.433375, 0.468624999999...   ds1\n",
       "177     [-0.2821875, -0.251, -0.2049375, -0.1756875, -...   ds1\n",
       "341     [-0.045375000000000006, -0.0008124999999999938...   ds1\n",
       "342     [-0.1483125, -0.200375, -0.22856250000000003, ...   ds1\n",
       "1473    [0.1549375, 0.18937500000000002, 0.2074375, 0....   ds1\n",
       "...                                                   ...   ...\n",
       "128848  [-0.096125, -0.06512500000000002, -0.088937499...  swd1\n",
       "128849  [0.22999999999999998, 0.19424999999999998, 0.1...  swd1\n",
       "129506  [-0.12618749999999998, -0.143875, -0.078000000...  swd1\n",
       "129507  [-0.159375, -0.209125, -0.211125, -0.2464375, ...  swd1\n",
       "129508  [0.052187500000000005, 0.043812500000000004, 0...  swd1\n",
       "\n",
       "[2234 rows x 2 columns]"
      ]
     },
     "execution_count": 40,
     "metadata": {},
     "output_type": "execute_result"
    }
   ],
   "source": [
    "first = X[(X['label'] == 'none') | (X['label'] == 'swd1') | (X['label'] == 'ds1') | (X['label'] == 'is1')]\n",
    "first"
   ]
  },
  {
   "cell_type": "code",
   "execution_count": 110,
   "id": "a35dd082-df0a-45df-b774-18f60cec9849",
   "metadata": {},
   "outputs": [],
   "source": [
    "train, test = train_test_split(first, test_size=0.33, random_state=42, stratify=first['label'])"
   ]
  },
  {
   "cell_type": "code",
   "execution_count": 117,
   "id": "f17e39f5-d812-45a5-9aff-4bb259ae446c",
   "metadata": {},
   "outputs": [
    {
     "data": {
      "text/html": [
       "<style>#sk-container-id-20 {color: black;background-color: white;}#sk-container-id-20 pre{padding: 0;}#sk-container-id-20 div.sk-toggleable {background-color: white;}#sk-container-id-20 label.sk-toggleable__label {cursor: pointer;display: block;width: 100%;margin-bottom: 0;padding: 0.3em;box-sizing: border-box;text-align: center;}#sk-container-id-20 label.sk-toggleable__label-arrow:before {content: \"▸\";float: left;margin-right: 0.25em;color: #696969;}#sk-container-id-20 label.sk-toggleable__label-arrow:hover:before {color: black;}#sk-container-id-20 div.sk-estimator:hover label.sk-toggleable__label-arrow:before {color: black;}#sk-container-id-20 div.sk-toggleable__content {max-height: 0;max-width: 0;overflow: hidden;text-align: left;background-color: #f0f8ff;}#sk-container-id-20 div.sk-toggleable__content pre {margin: 0.2em;color: black;border-radius: 0.25em;background-color: #f0f8ff;}#sk-container-id-20 input.sk-toggleable__control:checked~div.sk-toggleable__content {max-height: 200px;max-width: 100%;overflow: auto;}#sk-container-id-20 input.sk-toggleable__control:checked~label.sk-toggleable__label-arrow:before {content: \"▾\";}#sk-container-id-20 div.sk-estimator input.sk-toggleable__control:checked~label.sk-toggleable__label {background-color: #d4ebff;}#sk-container-id-20 div.sk-label input.sk-toggleable__control:checked~label.sk-toggleable__label {background-color: #d4ebff;}#sk-container-id-20 input.sk-hidden--visually {border: 0;clip: rect(1px 1px 1px 1px);clip: rect(1px, 1px, 1px, 1px);height: 1px;margin: -1px;overflow: hidden;padding: 0;position: absolute;width: 1px;}#sk-container-id-20 div.sk-estimator {font-family: monospace;background-color: #f0f8ff;border: 1px dotted black;border-radius: 0.25em;box-sizing: border-box;margin-bottom: 0.5em;}#sk-container-id-20 div.sk-estimator:hover {background-color: #d4ebff;}#sk-container-id-20 div.sk-parallel-item::after {content: \"\";width: 100%;border-bottom: 1px solid gray;flex-grow: 1;}#sk-container-id-20 div.sk-label:hover label.sk-toggleable__label {background-color: #d4ebff;}#sk-container-id-20 div.sk-serial::before {content: \"\";position: absolute;border-left: 1px solid gray;box-sizing: border-box;top: 0;bottom: 0;left: 50%;z-index: 0;}#sk-container-id-20 div.sk-serial {display: flex;flex-direction: column;align-items: center;background-color: white;padding-right: 0.2em;padding-left: 0.2em;position: relative;}#sk-container-id-20 div.sk-item {position: relative;z-index: 1;}#sk-container-id-20 div.sk-parallel {display: flex;align-items: stretch;justify-content: center;background-color: white;position: relative;}#sk-container-id-20 div.sk-item::before, #sk-container-id-20 div.sk-parallel-item::before {content: \"\";position: absolute;border-left: 1px solid gray;box-sizing: border-box;top: 0;bottom: 0;left: 50%;z-index: -1;}#sk-container-id-20 div.sk-parallel-item {display: flex;flex-direction: column;z-index: 1;position: relative;background-color: white;}#sk-container-id-20 div.sk-parallel-item:first-child::after {align-self: flex-end;width: 50%;}#sk-container-id-20 div.sk-parallel-item:last-child::after {align-self: flex-start;width: 50%;}#sk-container-id-20 div.sk-parallel-item:only-child::after {width: 0;}#sk-container-id-20 div.sk-dashed-wrapped {border: 1px dashed gray;margin: 0 0.4em 0.5em 0.4em;box-sizing: border-box;padding-bottom: 0.4em;background-color: white;}#sk-container-id-20 div.sk-label label {font-family: monospace;font-weight: bold;display: inline-block;line-height: 1.2em;}#sk-container-id-20 div.sk-label-container {text-align: center;}#sk-container-id-20 div.sk-container {/* jupyter's `normalize.less` sets `[hidden] { display: none; }` but bootstrap.min.css set `[hidden] { display: none !important; }` so we also need the `!important` here to be able to override the default hidden behavior on the sphinx rendered scikit-learn.org. See: https://github.com/scikit-learn/scikit-learn/issues/21755 */display: inline-block !important;position: relative;}#sk-container-id-20 div.sk-text-repr-fallback {display: none;}</style><div id=\"sk-container-id-20\" class=\"sk-top-container\"><div class=\"sk-text-repr-fallback\"><pre>KNeighborsClassifier(n_neighbors=1)</pre><b>In a Jupyter environment, please rerun this cell to show the HTML representation or trust the notebook. <br />On GitHub, the HTML representation is unable to render, please try loading this page with nbviewer.org.</b></div><div class=\"sk-container\" hidden><div class=\"sk-item\"><div class=\"sk-estimator sk-toggleable\"><input class=\"sk-toggleable__control sk-hidden--visually\" id=\"sk-estimator-id-20\" type=\"checkbox\" checked><label for=\"sk-estimator-id-20\" class=\"sk-toggleable__label sk-toggleable__label-arrow\">KNeighborsClassifier</label><div class=\"sk-toggleable__content\"><pre>KNeighborsClassifier(n_neighbors=1)</pre></div></div></div></div></div>"
      ],
      "text/plain": [
       "KNeighborsClassifier(n_neighbors=1)"
      ]
     },
     "execution_count": 117,
     "metadata": {},
     "output_type": "execute_result"
    }
   ],
   "source": [
    "start_model = KNeighborsClassifier(n_neighbors=1)\n",
    "start_model.fit(np.array(list(first['emb'].values)), first['label'])"
   ]
  },
  {
   "cell_type": "code",
   "execution_count": 112,
   "id": "3827b710-6eab-4868-82f3-456a36940f4a",
   "metadata": {},
   "outputs": [
    {
     "data": {
      "text/plain": [
       "['start_model.joblib']"
      ]
     },
     "execution_count": 112,
     "metadata": {},
     "output_type": "execute_result"
    }
   ],
   "source": [
    "dump(neigh, 'start_model.joblib') "
   ]
  },
  {
   "cell_type": "code",
   "execution_count": 74,
   "id": "fde9f272-a848-40b4-afc5-663ea1d5e090",
   "metadata": {},
   "outputs": [
    {
     "data": {
      "text/plain": [
       "0.5609756097560976"
      ]
     },
     "execution_count": 74,
     "metadata": {},
     "output_type": "execute_result"
    }
   ],
   "source": [
    "sum(neigh.predict(np.array(list(test['emb'].values))) == test['label']) / len(test)"
   ]
  },
  {
   "cell_type": "code",
   "execution_count": 76,
   "id": "ac72c732-483d-4fe3-a3f2-5c2fb6c88118",
   "metadata": {},
   "outputs": [
    {
     "data": {
      "text/plain": [
       "0.5609756097560976"
      ]
     },
     "execution_count": 76,
     "metadata": {},
     "output_type": "execute_result"
    }
   ],
   "source": [
    "f1_score(neigh.predict(np.array(list(test['emb'].values))), test['label'], average='micro')"
   ]
  },
  {
   "cell_type": "code",
   "execution_count": 80,
   "id": "1f23a657-95ef-4936-8c82-b9a25e499666",
   "metadata": {},
   "outputs": [
    {
     "data": {
      "text/plain": [
       "<Axes: >"
      ]
     },
     "execution_count": 80,
     "metadata": {},
     "output_type": "execute_result"
    },
    {
     "data": {
      "image/png": "[encoded data removed]",
      "text/plain": [
       "<Figure size 640x480 with 1 Axes>"
      ]
     },
     "metadata": {},
     "output_type": "display_data"
    }
   ],
   "source": [
    "pd.Series(neigh.predict(np.array(list(test['emb'].values)))).hist()"
   ]
  },
  {
   "cell_type": "code",
   "execution_count": 79,
   "id": "dc794762-0c4f-41d9-b56e-6cf83b50d63c",
   "metadata": {},
   "outputs": [
    {
     "data": {
      "text/plain": [
       "<Axes: >"
      ]
     },
     "execution_count": 79,
     "metadata": {},
     "output_type": "execute_result"
    },
    {
     "data": {
      "image/png": "[encoded data removed]",
      "text/plain": [
       "<Figure size 640x480 with 1 Axes>"
      ]
     },
     "metadata": {},
     "output_type": "display_data"
    }
   ],
   "source": [
    "test['label'].hist()"
   ]
  },
  {
   "cell_type": "code",
   "execution_count": 81,
   "id": "bd017e8a-4593-4719-917b-0fc2944f5b3a",
   "metadata": {},
   "outputs": [
    {
     "data": {
      "text/html": [
       "<div>\n",
       "<style scoped>\n",
       "    .dataframe tbody tr th:only-of-type {\n",
       "        vertical-align: middle;\n",
       "    }\n",
       "\n",
       "    .dataframe tbody tr th {\n",
       "        vertical-align: top;\n",
       "    }\n",
       "\n",
       "    .dataframe thead th {\n",
       "        text-align: right;\n",
       "    }\n",
       "</style>\n",
       "<table border=\"1\" class=\"dataframe\">\n",
       "  <thead>\n",
       "    <tr style=\"text-align: right;\">\n",
       "      <th></th>\n",
       "      <th>emb</th>\n",
       "      <th>label</th>\n",
       "    </tr>\n",
       "  </thead>\n",
       "  <tbody>\n",
       "    <tr>\n",
       "      <th>260</th>\n",
       "      <td>[-0.013624999999999998, 0.010624999999999997, ...</td>\n",
       "      <td>ds2</td>\n",
       "    </tr>\n",
       "    <tr>\n",
       "      <th>261</th>\n",
       "      <td>[-0.6280625000000001, -0.54325, -0.50150000000...</td>\n",
       "      <td>ds2</td>\n",
       "    </tr>\n",
       "    <tr>\n",
       "      <th>494</th>\n",
       "      <td>[-0.5730000000000001, -0.6001875, -0.6088125, ...</td>\n",
       "      <td>ds2</td>\n",
       "    </tr>\n",
       "    <tr>\n",
       "      <th>495</th>\n",
       "      <td>[0.6189375, 0.598875, 0.5909375, 0.612, 0.6049...</td>\n",
       "      <td>ds2</td>\n",
       "    </tr>\n",
       "    <tr>\n",
       "      <th>1499</th>\n",
       "      <td>[0.3925, 0.4853125, 0.506, 0.499875, 0.5019375...</td>\n",
       "      <td>ds2</td>\n",
       "    </tr>\n",
       "    <tr>\n",
       "      <th>...</th>\n",
       "      <td>...</td>\n",
       "      <td>...</td>\n",
       "    </tr>\n",
       "    <tr>\n",
       "      <th>128850</th>\n",
       "      <td>[0.2891875, 0.5893125, 0.69975, 0.6988125, 0.7...</td>\n",
       "      <td>swd2</td>\n",
       "    </tr>\n",
       "    <tr>\n",
       "      <th>128851</th>\n",
       "      <td>[-0.210625, -0.398875, -0.5966875, -0.67756250...</td>\n",
       "      <td>swd2</td>\n",
       "    </tr>\n",
       "    <tr>\n",
       "      <th>128852</th>\n",
       "      <td>[-0.044500000000000005, -0.055499999999999994,...</td>\n",
       "      <td>swd2</td>\n",
       "    </tr>\n",
       "    <tr>\n",
       "      <th>129513</th>\n",
       "      <td>[-0.237875, -0.1906875, -0.12506250000000002, ...</td>\n",
       "      <td>swd2</td>\n",
       "    </tr>\n",
       "    <tr>\n",
       "      <th>129514</th>\n",
       "      <td>[-0.0221875, -0.0418125, 0.08625000000000001, ...</td>\n",
       "      <td>swd2</td>\n",
       "    </tr>\n",
       "  </tbody>\n",
       "</table>\n",
       "<p>2247 rows × 2 columns</p>\n",
       "</div>"
      ],
      "text/plain": [
       "                                                      emb label\n",
       "260     [-0.013624999999999998, 0.010624999999999997, ...   ds2\n",
       "261     [-0.6280625000000001, -0.54325, -0.50150000000...   ds2\n",
       "494     [-0.5730000000000001, -0.6001875, -0.6088125, ...   ds2\n",
       "495     [0.6189375, 0.598875, 0.5909375, 0.612, 0.6049...   ds2\n",
       "1499    [0.3925, 0.4853125, 0.506, 0.499875, 0.5019375...   ds2\n",
       "...                                                   ...   ...\n",
       "128850  [0.2891875, 0.5893125, 0.69975, 0.6988125, 0.7...  swd2\n",
       "128851  [-0.210625, -0.398875, -0.5966875, -0.67756250...  swd2\n",
       "128852  [-0.044500000000000005, -0.055499999999999994,...  swd2\n",
       "129513  [-0.237875, -0.1906875, -0.12506250000000002, ...  swd2\n",
       "129514  [-0.0221875, -0.0418125, 0.08625000000000001, ...  swd2\n",
       "\n",
       "[2247 rows x 2 columns]"
      ]
     },
     "execution_count": 81,
     "metadata": {},
     "output_type": "execute_result"
    }
   ],
   "source": [
    "second = X[(X['label'] == 'none') | (X['label'] == 'swd2') | (X['label'] == 'ds2') | (X['label'] == 'is2')]\n",
    "second"
   ]
  },
  {
   "cell_type": "code",
   "execution_count": 83,
   "id": "763bc51c-7fad-4e02-9116-68ca10d1c26f",
   "metadata": {},
   "outputs": [],
   "source": [
    "train, test = train_test_split(second, test_size=0, random_state=13, stratify=second['label'])"
   ]
  },
  {
   "cell_type": "code",
   "execution_count": 116,
   "id": "b3d800f0-b3b2-41b7-a4ad-0d71b1f3a06b",
   "metadata": {},
   "outputs": [
    {
     "data": {
      "text/html": [
       "<style>#sk-container-id-19 {color: black;background-color: white;}#sk-container-id-19 pre{padding: 0;}#sk-container-id-19 div.sk-toggleable {background-color: white;}#sk-container-id-19 label.sk-toggleable__label {cursor: pointer;display: block;width: 100%;margin-bottom: 0;padding: 0.3em;box-sizing: border-box;text-align: center;}#sk-container-id-19 label.sk-toggleable__label-arrow:before {content: \"▸\";float: left;margin-right: 0.25em;color: #696969;}#sk-container-id-19 label.sk-toggleable__label-arrow:hover:before {color: black;}#sk-container-id-19 div.sk-estimator:hover label.sk-toggleable__label-arrow:before {color: black;}#sk-container-id-19 div.sk-toggleable__content {max-height: 0;max-width: 0;overflow: hidden;text-align: left;background-color: #f0f8ff;}#sk-container-id-19 div.sk-toggleable__content pre {margin: 0.2em;color: black;border-radius: 0.25em;background-color: #f0f8ff;}#sk-container-id-19 input.sk-toggleable__control:checked~div.sk-toggleable__content {max-height: 200px;max-width: 100%;overflow: auto;}#sk-container-id-19 input.sk-toggleable__control:checked~label.sk-toggleable__label-arrow:before {content: \"▾\";}#sk-container-id-19 div.sk-estimator input.sk-toggleable__control:checked~label.sk-toggleable__label {background-color: #d4ebff;}#sk-container-id-19 div.sk-label input.sk-toggleable__control:checked~label.sk-toggleable__label {background-color: #d4ebff;}#sk-container-id-19 input.sk-hidden--visually {border: 0;clip: rect(1px 1px 1px 1px);clip: rect(1px, 1px, 1px, 1px);height: 1px;margin: -1px;overflow: hidden;padding: 0;position: absolute;width: 1px;}#sk-container-id-19 div.sk-estimator {font-family: monospace;background-color: #f0f8ff;border: 1px dotted black;border-radius: 0.25em;box-sizing: border-box;margin-bottom: 0.5em;}#sk-container-id-19 div.sk-estimator:hover {background-color: #d4ebff;}#sk-container-id-19 div.sk-parallel-item::after {content: \"\";width: 100%;border-bottom: 1px solid gray;flex-grow: 1;}#sk-container-id-19 div.sk-label:hover label.sk-toggleable__label {background-color: #d4ebff;}#sk-container-id-19 div.sk-serial::before {content: \"\";position: absolute;border-left: 1px solid gray;box-sizing: border-box;top: 0;bottom: 0;left: 50%;z-index: 0;}#sk-container-id-19 div.sk-serial {display: flex;flex-direction: column;align-items: center;background-color: white;padding-right: 0.2em;padding-left: 0.2em;position: relative;}#sk-container-id-19 div.sk-item {position: relative;z-index: 1;}#sk-container-id-19 div.sk-parallel {display: flex;align-items: stretch;justify-content: center;background-color: white;position: relative;}#sk-container-id-19 div.sk-item::before, #sk-container-id-19 div.sk-parallel-item::before {content: \"\";position: absolute;border-left: 1px solid gray;box-sizing: border-box;top: 0;bottom: 0;left: 50%;z-index: -1;}#sk-container-id-19 div.sk-parallel-item {display: flex;flex-direction: column;z-index: 1;position: relative;background-color: white;}#sk-container-id-19 div.sk-parallel-item:first-child::after {align-self: flex-end;width: 50%;}#sk-container-id-19 div.sk-parallel-item:last-child::after {align-self: flex-start;width: 50%;}#sk-container-id-19 div.sk-parallel-item:only-child::after {width: 0;}#sk-container-id-19 div.sk-dashed-wrapped {border: 1px dashed gray;margin: 0 0.4em 0.5em 0.4em;box-sizing: border-box;padding-bottom: 0.4em;background-color: white;}#sk-container-id-19 div.sk-label label {font-family: monospace;font-weight: bold;display: inline-block;line-height: 1.2em;}#sk-container-id-19 div.sk-label-container {text-align: center;}#sk-container-id-19 div.sk-container {/* jupyter's `normalize.less` sets `[hidden] { display: none; }` but bootstrap.min.css set `[hidden] { display: none !important; }` so we also need the `!important` here to be able to override the default hidden behavior on the sphinx rendered scikit-learn.org. See: https://github.com/scikit-learn/scikit-learn/issues/21755 */display: inline-block !important;position: relative;}#sk-container-id-19 div.sk-text-repr-fallback {display: none;}</style><div id=\"sk-container-id-19\" class=\"sk-top-container\"><div class=\"sk-text-repr-fallback\"><pre>KNeighborsClassifier(n_neighbors=1)</pre><b>In a Jupyter environment, please rerun this cell to show the HTML representation or trust the notebook. <br />On GitHub, the HTML representation is unable to render, please try loading this page with nbviewer.org.</b></div><div class=\"sk-container\" hidden><div class=\"sk-item\"><div class=\"sk-estimator sk-toggleable\"><input class=\"sk-toggleable__control sk-hidden--visually\" id=\"sk-estimator-id-19\" type=\"checkbox\" checked><label for=\"sk-estimator-id-19\" class=\"sk-toggleable__label sk-toggleable__label-arrow\">KNeighborsClassifier</label><div class=\"sk-toggleable__content\"><pre>KNeighborsClassifier(n_neighbors=1)</pre></div></div></div></div></div>"
      ],
      "text/plain": [
       "KNeighborsClassifier(n_neighbors=1)"
      ]
     },
     "execution_count": 116,
     "metadata": {},
     "output_type": "execute_result"
    }
   ],
   "source": [
    "end_model = KNeighborsClassifier(n_neighbors=1)\n",
    "end_model.fit(np.array(list(second['emb'].values)), second['label'])"
   ]
  },
  {
   "cell_type": "code",
   "execution_count": 105,
   "id": "f20a3645-f406-40c9-9417-4b73777cc1b2",
   "metadata": {},
   "outputs": [
    {
     "data": {
      "text/plain": [
       "0.5525606469002695"
      ]
     },
     "execution_count": 105,
     "metadata": {},
     "output_type": "execute_result"
    }
   ],
   "source": [
    "sum(neigh.predict(np.array(list(test['emb'].values))) == test['label']) / len(test)"
   ]
  },
  {
   "cell_type": "code",
   "execution_count": 106,
   "id": "b1f05ddf-74ae-48db-adc3-0c26b02c0f92",
   "metadata": {},
   "outputs": [
    {
     "data": {
      "text/plain": [
       "<Axes: >"
      ]
     },
     "execution_count": 106,
     "metadata": {},
     "output_type": "execute_result"
    },
    {
     "data": {
      "image/png": "[encoded data removed]",
      "text/plain": [
       "<Figure size 640x480 with 1 Axes>"
      ]
     },
     "metadata": {},
     "output_type": "display_data"
    }
   ],
   "source": [
    "pd.Series(neigh.predict(np.array(list(test['emb'].values)))).hist()"
   ]
  },
  {
   "cell_type": "code",
   "execution_count": 107,
   "id": "e8da1b34-2894-4aed-94ea-ef50d264ab1b",
   "metadata": {},
   "outputs": [
    {
     "data": {
      "text/plain": [
       "<Axes: >"
      ]
     },
     "execution_count": 107,
     "metadata": {},
     "output_type": "execute_result"
    },
    {
     "data": {
      "image/png": "[encoded data removed]",
      "text/plain": [
       "<Figure size 640x480 with 1 Axes>"
      ]
     },
     "metadata": {},
     "output_type": "display_data"
    }
   ],
   "source": [
    "test['label'].hist()"
   ]
  },
  {
   "cell_type": "code",
   "execution_count": 109,
   "id": "8d69e37c-efac-416f-a6c6-1da3275405b1",
   "metadata": {},
   "outputs": [
    {
     "data": {
      "text/plain": [
       "['end_model.joblib']"
      ]
     },
     "execution_count": 109,
     "metadata": {},
     "output_type": "execute_result"
    }
   ],
   "source": [
    "dump(neigh, 'end_model.joblib') "
   ]
  },
  {
   "cell_type": "code",
   "execution_count": null,
   "id": "7f176c1a-4f37-420a-9995-10d30b55f946",
   "metadata": {},
   "outputs": [],
   "source": [
    "def predict():\n",
    "    for i in range(0, len()):"
   ]
  },
  {
   "cell_type": "markdown",
   "id": "9c94afd0-7da2-4841-9c70-c0c52089b07a",
   "metadata": {},
   "source": [
    "# Metric"
   ]
  },
  {
   "cell_type": "code",
   "execution_count": 114,
   "id": "04c4dbd3-fb51-4594-849b-7181798fa530",
   "metadata": {},
   "outputs": [],
   "source": [
    "file_name = 'data/golden/Ati4x1_15m_H2O_6h_edited.edf'\n",
    "f = pyedflib.EdfReader(file_name)\n",
    "n = f.signals_in_file\n",
    "n_a = f.annotations_in_file\n",
    "signal_labels = f.getSignalLabels()\n",
    "sigbufs = np.zeros((n, f.getNSamples()[0]))\n",
    "\n",
    "for i in np.arange(n):\n",
    "    sigbufs[i, :] = f.readSignal(i)"
   ]
  },
  {
   "cell_type": "code",
   "execution_count": 115,
   "id": "07bc1c0b-7e0e-42e4-8cba-023794854406",
   "metadata": {},
   "outputs": [
    {
     "data": {
      "text/plain": [
       "[array([ 171400.,  184180., 2698120., 2705430., 2874740., 2879860.,\n",
       "        5692550., 5716010., 8002510., 8038110., 8059800., 8090150.,\n",
       "        8090190., 8098990.]),\n",
       " array([-1., -1., -1., -1., -1., -1., -1., -1., -1., -1., -1., -1., -1.,\n",
       "        -1.]),\n",
       " array(['ds1', 'ds2', 'is1', 'is2', 'is1', 'is2', 'ds1', 'ds2', 'ds1',\n",
       "        'ds2', 'ds1', 'ds2', 'is1', 'is2'], dtype='<U3')]"
      ]
     },
     "execution_count": 115,
     "metadata": {},
     "output_type": "execute_result"
    }
   ],
   "source": [
    "annotations = list(f.readAnnotations())\n",
    "annotations[0] = annotations[0] / (f.getFileDuration() / sigbufs.shape[1])\n",
    "annotations"
   ]
  },
  {
   "cell_type": "code",
   "execution_count": 200,
   "id": "9f465a03-75a6-462b-aa09-f9d135cd851d",
   "metadata": {},
   "outputs": [],
   "source": [
    "def jaccard_metric(data, ground_trouth):\n",
    "    gr = []\n",
    "    d = []\n",
    "    if 'is' in ground_trouth:\n",
    "        gr.append(np.array(ground_trouth) == 'is')\n",
    "        d.append(np.array(data) == 'is')\n",
    "        \n",
    "    \n",
    "    if 'ds' in ground_trouth:\n",
    "        gr.append(np.array(ground_trouth) == 'ds')\n",
    "        d.append(np.array(data) == 'ds')\n",
    "    \n",
    "    if 'swd' in ground_trouth:\n",
    "        gr.append(np.array(ground_trouth) == 'swd')\n",
    "        d.append(np.array(data) == 'swd')\n",
    "    \n",
    "    gr.append(np.array(ground_trouth) == 'none')\n",
    "    d.append(np.array(data) == 'none')\n",
    "    \n",
    "    result = 0\n",
    "    for i in range(len(d)):\n",
    "        result += jaccard_score(gr[i], d[i])\n",
    "    \n",
    "    return result/len(d)"
   ]
  },
  {
   "cell_type": "code",
   "execution_count": 143,
   "id": "aad4acd4-d4be-4388-ae33-6bb7b1a7ff7a",
   "metadata": {},
   "outputs": [],
   "source": [
    "def predprocessing(chunk):\n",
    "    return np.sum(chunk, axis=0)\n",
    "\n",
    "\n",
    "def predict(chunk, time, mode):\n",
    "    data = predprocessing(chunk).reshape((1, -1))\n",
    "    \n",
    "    if mode == 'start':\n",
    "        model = start_model\n",
    "    else:\n",
    "        model = end_model\n",
    "    pred = model.predict(data)\n",
    "    \n",
    "    if pred != 'none' and mode == 'start':\n",
    "        mode = 'end'\n",
    "    elif pred != 'none':\n",
    "        mode = 'start'\n",
    "        \n",
    "    return {'x': time, 'y': pred, 'mode': mode}"
   ]
  },
  {
   "cell_type": "code",
   "execution_count": 145,
   "id": "548796b2-d396-42ee-a700-82d8947be0ab",
   "metadata": {},
   "outputs": [
    {
     "name": "stderr",
     "output_type": "stream",
     "text": [
      "100%|██████████| 8641/8641 [00:43<00:00, 198.97it/s]\n"
     ]
    }
   ],
   "source": [
    "result = []\n",
    "mode = 'start'\n",
    "for i in tqdm(range(0, len(sigbufs[0]), 1000)):\n",
    "    if i + 1000 < len(sigbufs[0]):\n",
    "        data = predict(sigbufs[:, i: i+1000], i+750, mode)\n",
    "        mode = data['mode']\n",
    "        result.append((data['x'], data['y']))"
   ]
  },
  {
   "cell_type": "code",
   "execution_count": 149,
   "id": "f820dc31-a4b8-44dc-a1af-c96cd2ec0f09",
   "metadata": {},
   "outputs": [
    {
     "data": {
      "text/plain": [
       "(750, array(['none'], dtype=object))"
      ]
     },
     "execution_count": 149,
     "metadata": {},
     "output_type": "execute_result"
    }
   ],
   "source": [
    "result[0]"
   ]
  },
  {
   "cell_type": "code",
   "execution_count": 151,
   "id": "dada0633-d91a-4a4b-8429-6d00b91fdb3f",
   "metadata": {},
   "outputs": [],
   "source": [
    "mode = 'none'\n",
    "\n",
    "for j, i in enumerate(result, 0):\n",
    "    if i[1][0] != 'none' and i[1][0][-1] == '1':\n",
    "        mode = i[1][0][:-1]\n",
    "        \n",
    "    result[j] = (result[j][0], mode)\n",
    "    \n",
    "    if i[1][0][-1] == '2':\n",
    "        mode = 'none'"
   ]
  },
  {
   "cell_type": "code",
   "execution_count": 178,
   "id": "8ffb8caa-3cf6-4e2e-a88e-39717f0a1cf1",
   "metadata": {},
   "outputs": [],
   "source": [
    "result1 = [i[0] for i in result if i[1] != 'none']\n",
    "result2 = [i[1] for i in result if i[1] != 'none']"
   ]
  },
  {
   "cell_type": "code",
   "execution_count": 186,
   "id": "a39123fb-7fe5-4df8-902f-d0867b77b01e",
   "metadata": {},
   "outputs": [
    {
     "name": "stderr",
     "output_type": "stream",
     "text": [
      "100%|██████████| 8640400/8640400 [01:36<00:00, 89208.48it/s] \n"
     ]
    }
   ],
   "source": [
    "data = []\n",
    "mode = 'none'\n",
    "\n",
    "for i in tqdm(range(len(sigbufs[0]))):\n",
    "    for j in range(0, len(result1[:-1]), 2):\n",
    "        if i >= int(result1[j]) and int(result1[j + 1]) >= i:\n",
    "            mode = result2[j]\n",
    "            break\n",
    "        \n",
    "        if int(result1[j + 1]) < i:\n",
    "            mode = 'none'\n",
    "            break\n",
    "            \n",
    "        \n",
    "    data.append(mode)"
   ]
  },
  {
   "cell_type": "code",
   "execution_count": 187,
   "id": "7f7eeab9-a9d6-48ae-ad93-edde5ab104cb",
   "metadata": {},
   "outputs": [
    {
     "data": {
      "text/plain": [
       "<Axes: >"
      ]
     },
     "execution_count": 187,
     "metadata": {},
     "output_type": "execute_result"
    },
    {
     "data": {
      "image/png": "[encoded data removed]",
      "text/plain": [
       "<Figure size 640x480 with 1 Axes>"
      ]
     },
     "metadata": {},
     "output_type": "display_data"
    }
   ],
   "source": [
    "pd.Series(data).value_counts().plot(kind='bar')"
   ]
  },
  {
   "cell_type": "code",
   "execution_count": 174,
   "id": "e208d1a4-e48f-4759-99da-31d82eb02e5c",
   "metadata": {},
   "outputs": [
    {
     "name": "stderr",
     "output_type": "stream",
     "text": [
      "100%|██████████| 8640400/8640400 [00:49<00:00, 173916.85it/s]\n"
     ]
    }
   ],
   "source": [
    "ground_trouth = ['none'] * len(sigbufs[0])\n",
    "\n",
    "        for j in range(0, len(annotations[0]), 2):\n",
    "            ground_trouth[int(str(annotations[0][j]).split('.')[0]): int(str(annotations[0][j + 1]).split('.')[0])+1] = annotations[2][j][:-1]"
   ]
  },
  {
   "cell_type": "code",
   "execution_count": 188,
   "id": "30b8271f-9c47-43b0-a209-8d9d91f32ab1",
   "metadata": {},
   "outputs": [
    {
     "data": {
      "text/plain": [
       "<Axes: >"
      ]
     },
     "execution_count": 188,
     "metadata": {},
     "output_type": "execute_result"
    },
    {
     "data": {
      "image/png": "[encoded data removed]",
      "text/plain": [
       "<Figure size 640x480 with 1 Axes>"
      ]
     },
     "metadata": {},
     "output_type": "display_data"
    }
   ],
   "source": [
    "pd.Series(ground_trouth).value_counts().plot(kind='bar')"
   ]
  },
  {
   "cell_type": "code",
   "execution_count": 201,
   "id": "3107ee25-d5ee-4546-b621-40d7c919d206",
   "metadata": {},
   "outputs": [
    {
     "data": {
      "text/plain": [
       "0.49279963890560624"
      ]
     },
     "execution_count": 201,
     "metadata": {},
     "output_type": "execute_result"
    }
   ],
   "source": [
    "jaccard_metric(data, ground_trouth)"
   ]
  },
  {
   "cell_type": "code",
   "execution_count": null,
   "id": "788d5779-c8df-4424-89df-be08831f4dbd",
   "metadata": {},
   "outputs": [],
   "source": []
  }
 ],
 "metadata": {
  "kernelspec": {
   "display_name": "hacks",
   "language": "python",
   "name": "hacks"
  },
  "language_info": {
   "codemirror_mode": {
    "name": "ipython",
    "version": 3
   },
   "file_extension": ".py",
   "mimetype": "text/x-python",
   "name": "python",
   "nbconvert_exporter": "python",
   "pygments_lexer": "ipython3",
   "version": "3.9.20"
  }
 },
 "nbformat": 4,
 "nbformat_minor": 5
}
